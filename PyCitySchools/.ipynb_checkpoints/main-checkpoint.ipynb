{
 "cells": [
  {
   "cell_type": "code",
   "execution_count": 2,
   "id": "0a8c2276-83d0-48c7-8a9f-48f0b26315fc",
   "metadata": {},
   "outputs": [
    {
     "data": {
      "text/html": [
       "<div>\n",
       "<style scoped>\n",
       "    .dataframe tbody tr th:only-of-type {\n",
       "        vertical-align: middle;\n",
       "    }\n",
       "\n",
       "    .dataframe tbody tr th {\n",
       "        vertical-align: top;\n",
       "    }\n",
       "\n",
       "    .dataframe thead th {\n",
       "        text-align: right;\n",
       "    }\n",
       "</style>\n",
       "<table border=\"1\" class=\"dataframe\">\n",
       "  <thead>\n",
       "    <tr style=\"text-align: right;\">\n",
       "      <th></th>\n",
       "      <th>Student ID</th>\n",
       "      <th>student_name</th>\n",
       "      <th>gender</th>\n",
       "      <th>grade</th>\n",
       "      <th>school_name</th>\n",
       "      <th>reading_score</th>\n",
       "      <th>math_score</th>\n",
       "      <th>School ID</th>\n",
       "      <th>type</th>\n",
       "      <th>size</th>\n",
       "      <th>budget</th>\n",
       "    </tr>\n",
       "  </thead>\n",
       "  <tbody>\n",
       "    <tr>\n",
       "      <th>0</th>\n",
       "      <td>0</td>\n",
       "      <td>Paul Bradley</td>\n",
       "      <td>M</td>\n",
       "      <td>9th</td>\n",
       "      <td>Huang High School</td>\n",
       "      <td>66</td>\n",
       "      <td>79</td>\n",
       "      <td>0</td>\n",
       "      <td>District</td>\n",
       "      <td>2917</td>\n",
       "      <td>1910635</td>\n",
       "    </tr>\n",
       "    <tr>\n",
       "      <th>1</th>\n",
       "      <td>1</td>\n",
       "      <td>Victor Smith</td>\n",
       "      <td>M</td>\n",
       "      <td>12th</td>\n",
       "      <td>Huang High School</td>\n",
       "      <td>94</td>\n",
       "      <td>61</td>\n",
       "      <td>0</td>\n",
       "      <td>District</td>\n",
       "      <td>2917</td>\n",
       "      <td>1910635</td>\n",
       "    </tr>\n",
       "    <tr>\n",
       "      <th>2</th>\n",
       "      <td>2</td>\n",
       "      <td>Kevin Rodriguez</td>\n",
       "      <td>M</td>\n",
       "      <td>12th</td>\n",
       "      <td>Huang High School</td>\n",
       "      <td>90</td>\n",
       "      <td>60</td>\n",
       "      <td>0</td>\n",
       "      <td>District</td>\n",
       "      <td>2917</td>\n",
       "      <td>1910635</td>\n",
       "    </tr>\n",
       "    <tr>\n",
       "      <th>3</th>\n",
       "      <td>3</td>\n",
       "      <td>Dr. Richard Scott</td>\n",
       "      <td>M</td>\n",
       "      <td>12th</td>\n",
       "      <td>Huang High School</td>\n",
       "      <td>67</td>\n",
       "      <td>58</td>\n",
       "      <td>0</td>\n",
       "      <td>District</td>\n",
       "      <td>2917</td>\n",
       "      <td>1910635</td>\n",
       "    </tr>\n",
       "    <tr>\n",
       "      <th>4</th>\n",
       "      <td>4</td>\n",
       "      <td>Bonnie Ray</td>\n",
       "      <td>F</td>\n",
       "      <td>9th</td>\n",
       "      <td>Huang High School</td>\n",
       "      <td>97</td>\n",
       "      <td>84</td>\n",
       "      <td>0</td>\n",
       "      <td>District</td>\n",
       "      <td>2917</td>\n",
       "      <td>1910635</td>\n",
       "    </tr>\n",
       "  </tbody>\n",
       "</table>\n",
       "</div>"
      ],
      "text/plain": [
       "   Student ID       student_name gender grade        school_name  \\\n",
       "0           0       Paul Bradley      M   9th  Huang High School   \n",
       "1           1       Victor Smith      M  12th  Huang High School   \n",
       "2           2    Kevin Rodriguez      M  12th  Huang High School   \n",
       "3           3  Dr. Richard Scott      M  12th  Huang High School   \n",
       "4           4         Bonnie Ray      F   9th  Huang High School   \n",
       "\n",
       "   reading_score  math_score  School ID      type  size   budget  \n",
       "0             66          79          0  District  2917  1910635  \n",
       "1             94          61          0  District  2917  1910635  \n",
       "2             90          60          0  District  2917  1910635  \n",
       "3             67          58          0  District  2917  1910635  \n",
       "4             97          84          0  District  2917  1910635  "
      ]
     },
     "execution_count": 2,
     "metadata": {},
     "output_type": "execute_result"
    }
   ],
   "source": [
    "# Dependencies and Setup\n",
    "import pandas as pd\n",
    "from pathlib import Path\n",
    "\n",
    "# File to Load (Remember to Change These)\n",
    "school_data_to_load = Path(\"../Resources/schools_complete.csv\")\n",
    "student_data_to_load = Path(\"../Resources/students_complete.csv\")\n",
    "\n",
    "# Read School and Student Data File and store into Pandas DataFrames\n",
    "school_data = pd.read_csv(school_data_to_load)\n",
    "student_data = pd.read_csv(student_data_to_load)\n",
    "\n",
    "# Combine the data into a single dataset.  \n",
    "school_data_complete = pd.merge(student_data, school_data, how=\"left\", on=[\"school_name\", \"school_name\"])\n",
    "school_data_complete.head()"
   ]
  },
  {
   "cell_type": "markdown",
   "id": "b2e71eec-863f-4b9f-b0d1-783f6962b597",
   "metadata": {},
   "source": [
    "## District Summary"
   ]
  },
  {
   "cell_type": "code",
   "execution_count": 5,
   "id": "18b84d88-12b0-4096-a145-7b4accecfa52",
   "metadata": {},
   "outputs": [
    {
     "data": {
      "text/plain": [
       "15"
      ]
     },
     "execution_count": 5,
     "metadata": {},
     "output_type": "execute_result"
    }
   ],
   "source": [
    "# Calculate the total number of unique schools\n",
    "school_count = len(school_data_complete[\"school_name\"].unique())\n",
    "school_count"
   ]
  },
  {
   "cell_type": "code",
   "execution_count": 25,
   "id": "de7d14b7-770a-496e-be66-bcf76e5e4ba8",
   "metadata": {},
   "outputs": [
    {
     "data": {
      "text/plain": [
       "39170"
      ]
     },
     "execution_count": 25,
     "metadata": {},
     "output_type": "execute_result"
    }
   ],
   "source": [
    "# Calculate the total number of students\n",
    "student_count = len(school_data_complete[\"Student ID\"])\n",
    "student_count"
   ]
  },
  {
   "cell_type": "code",
   "execution_count": 82,
   "id": "6caf0e8f-3542-452d-b9bc-68360c80cd91",
   "metadata": {},
   "outputs": [
    {
     "data": {
      "text/plain": [
       "24649428"
      ]
     },
     "execution_count": 82,
     "metadata": {},
     "output_type": "execute_result"
    }
   ],
   "source": [
    "# Calculate the total budget\n",
    "total_budget = sum(school_data_complete[\"budget\"].unique())\n",
    "total_budget"
   ]
  },
  {
   "cell_type": "code",
   "execution_count": 13,
   "id": "4ff778c1-5812-433e-999c-6147062ba686",
   "metadata": {},
   "outputs": [
    {
     "data": {
      "text/plain": [
       "78.98537145774827"
      ]
     },
     "execution_count": 13,
     "metadata": {},
     "output_type": "execute_result"
    }
   ],
   "source": [
    "# Calculate the average (mean) math score\n",
    "average_math_score = school_data_complete[\"math_score\"].mean()\n",
    "average_math_score"
   ]
  },
  {
   "cell_type": "code",
   "execution_count": 14,
   "id": "eba46046-7b0c-44a8-86dd-403dfefbd624",
   "metadata": {},
   "outputs": [
    {
     "data": {
      "text/plain": [
       "81.87784018381414"
      ]
     },
     "execution_count": 14,
     "metadata": {},
     "output_type": "execute_result"
    }
   ],
   "source": [
    "# Calculate the average (mean) reading score\n",
    "average_reading_score = school_data_complete[\"reading_score\"].mean()\n",
    "average_reading_score"
   ]
  },
  {
   "cell_type": "code",
   "execution_count": 26,
   "id": "15009737-d231-4fe3-92fa-5282cc949bef",
   "metadata": {},
   "outputs": [
    {
     "data": {
      "text/plain": [
       "74.9808526933878"
      ]
     },
     "execution_count": 26,
     "metadata": {},
     "output_type": "execute_result"
    }
   ],
   "source": [
    "# Use the following to calculate the percentage of students who passed math (math scores greather than or equal to 70)\n",
    "passing_math_count = school_data_complete[(school_data_complete[\"math_score\"] >= 70)].count()[\"student_name\"]\n",
    "passing_math_percentage = passing_math_count / float(student_count) * 100\n",
    "passing_math_percentage"
   ]
  },
  {
   "cell_type": "code",
   "execution_count": 16,
   "id": "3fcd4f7c-6647-4071-9d06-4eb7ab3173a3",
   "metadata": {},
   "outputs": [
    {
     "data": {
      "text/plain": [
       "85.80546336482001"
      ]
     },
     "execution_count": 16,
     "metadata": {},
     "output_type": "execute_result"
    }
   ],
   "source": [
    "# Calculate the percentage of students who passed reading (hint: look at how the math percentage was calculated)  \n",
    "passing_reading_count = school_data_complete[(school_data_complete[\"reading_score\"] >= 70)].count()[\"student_name\"]\n",
    "passing_reading_percentage = passing_reading_count / float(student_count) * 100\n",
    "passing_reading_percentage"
   ]
  },
  {
   "cell_type": "code",
   "execution_count": 17,
   "id": "0d487a5e-f673-459f-b9ad-f046715daaf3",
   "metadata": {},
   "outputs": [
    {
     "data": {
      "text/plain": [
       "65.17232575950983"
      ]
     },
     "execution_count": 17,
     "metadata": {},
     "output_type": "execute_result"
    }
   ],
   "source": [
    "# Use the following to calculate the percentage of students that passed math and reading\n",
    "passing_math_reading_count = school_data_complete[\n",
    "    (school_data_complete[\"math_score\"] >= 70) & (school_data_complete[\"reading_score\"] >= 70)\n",
    "].count()[\"student_name\"]\n",
    "overall_passing_rate = passing_math_reading_count /  float(student_count) * 100\n",
    "overall_passing_rate"
   ]
  },
  {
   "cell_type": "code",
   "execution_count": 73,
   "id": "e2f9d066-4881-4aaa-86a4-dabab6a6d955",
   "metadata": {},
   "outputs": [
    {
     "data": {
      "text/html": [
       "<div>\n",
       "<style scoped>\n",
       "    .dataframe tbody tr th:only-of-type {\n",
       "        vertical-align: middle;\n",
       "    }\n",
       "\n",
       "    .dataframe tbody tr th {\n",
       "        vertical-align: top;\n",
       "    }\n",
       "\n",
       "    .dataframe thead th {\n",
       "        text-align: right;\n",
       "    }\n",
       "</style>\n",
       "<table border=\"1\" class=\"dataframe\">\n",
       "  <thead>\n",
       "    <tr style=\"text-align: right;\">\n",
       "      <th></th>\n",
       "      <th>Total Schools</th>\n",
       "      <th>Total Students</th>\n",
       "      <th>Total Budget</th>\n",
       "      <th>Average Math Score</th>\n",
       "      <th>Average Reading Score</th>\n",
       "      <th>% Passing Math</th>\n",
       "      <th>% Passing Reading</th>\n",
       "      <th>% Overall Passing</th>\n",
       "    </tr>\n",
       "  </thead>\n",
       "  <tbody>\n",
       "    <tr>\n",
       "      <th>0</th>\n",
       "      <td>15</td>\n",
       "      <td>39,170</td>\n",
       "      <td>$24,649,428.00</td>\n",
       "      <td>78.985371</td>\n",
       "      <td>81.87784</td>\n",
       "      <td>74.980853</td>\n",
       "      <td>85.805463</td>\n",
       "      <td>65.172326</td>\n",
       "    </tr>\n",
       "  </tbody>\n",
       "</table>\n",
       "</div>"
      ],
      "text/plain": [
       "   Total Schools Total Students    Total Budget  Average Math Score  \\\n",
       "0             15         39,170  $24,649,428.00           78.985371   \n",
       "\n",
       "   Average Reading Score  % Passing Math  % Passing Reading  % Overall Passing  \n",
       "0               81.87784       74.980853          85.805463          65.172326  "
      ]
     },
     "metadata": {},
     "output_type": "display_data"
    }
   ],
   "source": [
    "# Create a high-level snapshot of the district's key metrics in a DataFrame\n",
    "district_summary_data = {\"Total Schools\":[school_count], \"Total Students\":[student_count], \"Total Budget\":[total_budget], \n",
    "                         \"Average Math Score\":[average_math_score], \n",
    "                         \"Average Reading Score\":[average_reading_score], \n",
    "                         \"% Passing Math\":[passing_math_percentage], \n",
    "                         \"% Passing Reading\":[passing_reading_percentage], \n",
    "                         \"% Overall Passing\":[overall_passing_rate]}\n",
    "district_summary = pd.DataFrame(district_summary_data)\n",
    "\n",
    "# Formatting\n",
    "district_summary[\"Total Students\"] = district_summary[\"Total Students\"].map(\"{:,}\".format)\n",
    "district_summary[\"Total Budget\"] = district_summary[\"Total Budget\"].map(\"${:,.2f}\".format)\n",
    "\n",
    "# Display the DataFrame\n",
    "display(district_summary)"
   ]
  },
  {
   "cell_type": "markdown",
   "id": "8d9291ec-7007-441b-a4f8-d3082231e9b4",
   "metadata": {},
   "source": [
    "## School Summary"
   ]
  },
  {
   "cell_type": "code",
   "execution_count": 99,
   "id": "50735a34-0d71-4f7d-b628-e0863115e078",
   "metadata": {},
   "outputs": [],
   "source": [
    "# Use the code provided to select all of the school types\n",
    "school_types = school_data.set_index(\"school_name\")[\"type\"]"
   ]
  },
  {
   "cell_type": "code",
   "execution_count": 98,
   "id": "7d3f7144-bea4-442b-8f85-ae1ff10c5d91",
   "metadata": {},
   "outputs": [],
   "source": [
    "# Calculate the total student count per school\n",
    "per_school_counts = school_data_complete[\"school_name\"].value_counts()"
   ]
  },
  {
   "cell_type": "code",
   "execution_count": 97,
   "id": "32aad77f-da41-455d-9c8f-14885f560e62",
   "metadata": {},
   "outputs": [],
   "source": [
    "# Calculate the total school budget and per capita spending per school\n",
    "per_school_budget = school_data.groupby(\"school_name\")[\"budget\"].sum()\n",
    "per_school_capita = per_school_budget / per_school_counts"
   ]
  },
  {
   "cell_type": "code",
   "execution_count": 96,
   "id": "2863972c-3daf-4f68-a6b8-ea46a2a2f6b4",
   "metadata": {},
   "outputs": [],
   "source": [
    "# Calculate the average test scores per school\n",
    "per_school_math = school_data_complete.groupby(\"school_name\")[\"math_score\"].mean()\n",
    "per_school_reading = school_data_complete.groupby(\"school_name\")[\"reading_score\"].mean()"
   ]
  },
  {
   "cell_type": "code",
   "execution_count": 90,
   "id": "76ce062b-5393-4198-ac61-2175511a1e98",
   "metadata": {},
   "outputs": [],
   "source": [
    "# Calculate the number of students per school with math scores of 70 or higher\n",
    "students_passing_math = school_data_complete.loc[school_data_complete[\"math_score\"] >= 70, [\"school_name\", \"math_score\"]]\n",
    "school_students_passing_math = students_passing_math.groupby(\"school_name\").count()[\"math_score\"]"
   ]
  },
  {
   "cell_type": "code",
   "execution_count": 91,
   "id": "75840045-a50e-40c0-9306-8936c739f150",
   "metadata": {},
   "outputs": [],
   "source": [
    "# Calculate the number of students per school with reading scores of 70 or higher\n",
    "students_passing_reading = school_data_complete.loc[school_data_complete[\"reading_score\"] >= 70, [\"school_name\", \"reading_score\"]]\n",
    "school_students_passing_reading = students_passing_reading.groupby(\"school_name\").count()[\"reading_score\"]"
   ]
  },
  {
   "cell_type": "code",
   "execution_count": 92,
   "id": "d152829d-2347-43df-ab76-c87434106423",
   "metadata": {},
   "outputs": [],
   "source": [
    "# Use the provided code to calculate the number of students per school that passed both math and reading with scores of 70 or higher\n",
    "students_passing_math_and_reading = school_data_complete[\n",
    "    (school_data_complete[\"reading_score\"] >= 70) & (school_data_complete[\"math_score\"] >= 70)\n",
    "]\n",
    "school_students_passing_math_and_reading = students_passing_math_and_reading.groupby([\"school_name\"]).size()"
   ]
  },
  {
   "cell_type": "code",
   "execution_count": 94,
   "id": "ff4f0d19-ad95-42ff-afc0-354670f176b2",
   "metadata": {},
   "outputs": [],
   "source": [
    "# Use the provided code to calculate the passing rates\n",
    "per_school_passing_math = school_students_passing_math / per_school_counts * 100\n",
    "per_school_passing_reading = school_students_passing_reading / per_school_counts * 100\n",
    "overall_passing_rate = school_students_passing_math_and_reading / per_school_counts * 100"
   ]
  },
  {
   "cell_type": "code",
   "execution_count": 100,
   "id": "6fe5a207-f459-4a37-89ea-d442a6d63aac",
   "metadata": {},
   "outputs": [
    {
     "data": {
      "text/html": [
       "<div>\n",
       "<style scoped>\n",
       "    .dataframe tbody tr th:only-of-type {\n",
       "        vertical-align: middle;\n",
       "    }\n",
       "\n",
       "    .dataframe tbody tr th {\n",
       "        vertical-align: top;\n",
       "    }\n",
       "\n",
       "    .dataframe thead th {\n",
       "        text-align: right;\n",
       "    }\n",
       "</style>\n",
       "<table border=\"1\" class=\"dataframe\">\n",
       "  <thead>\n",
       "    <tr style=\"text-align: right;\">\n",
       "      <th></th>\n",
       "      <th>School Type</th>\n",
       "      <th>Total Students</th>\n",
       "      <th>Total School Budget</th>\n",
       "      <th>Per Student Budget</th>\n",
       "      <th>Average Math Score</th>\n",
       "      <th>Average Reading Score</th>\n",
       "      <th>% Passing Math</th>\n",
       "      <th>% Passing Reading</th>\n",
       "      <th>% Passing Overall</th>\n",
       "    </tr>\n",
       "  </thead>\n",
       "  <tbody>\n",
       "    <tr>\n",
       "      <th>Bailey High School</th>\n",
       "      <td>District</td>\n",
       "      <td>4976</td>\n",
       "      <td>$3,124,928.00</td>\n",
       "      <td>$628.00</td>\n",
       "      <td>77.048432</td>\n",
       "      <td>81.033963</td>\n",
       "      <td>66.680064</td>\n",
       "      <td>81.933280</td>\n",
       "      <td>54.642283</td>\n",
       "    </tr>\n",
       "    <tr>\n",
       "      <th>Cabrera High School</th>\n",
       "      <td>Charter</td>\n",
       "      <td>1858</td>\n",
       "      <td>$1,081,356.00</td>\n",
       "      <td>$582.00</td>\n",
       "      <td>83.061895</td>\n",
       "      <td>83.975780</td>\n",
       "      <td>94.133477</td>\n",
       "      <td>97.039828</td>\n",
       "      <td>91.334769</td>\n",
       "    </tr>\n",
       "    <tr>\n",
       "      <th>Figueroa High School</th>\n",
       "      <td>District</td>\n",
       "      <td>2949</td>\n",
       "      <td>$1,884,411.00</td>\n",
       "      <td>$639.00</td>\n",
       "      <td>76.711767</td>\n",
       "      <td>81.158020</td>\n",
       "      <td>65.988471</td>\n",
       "      <td>80.739234</td>\n",
       "      <td>53.204476</td>\n",
       "    </tr>\n",
       "    <tr>\n",
       "      <th>Ford High School</th>\n",
       "      <td>District</td>\n",
       "      <td>2739</td>\n",
       "      <td>$1,763,916.00</td>\n",
       "      <td>$644.00</td>\n",
       "      <td>77.102592</td>\n",
       "      <td>80.746258</td>\n",
       "      <td>68.309602</td>\n",
       "      <td>79.299014</td>\n",
       "      <td>54.289887</td>\n",
       "    </tr>\n",
       "    <tr>\n",
       "      <th>Griffin High School</th>\n",
       "      <td>Charter</td>\n",
       "      <td>1468</td>\n",
       "      <td>$917,500.00</td>\n",
       "      <td>$625.00</td>\n",
       "      <td>83.351499</td>\n",
       "      <td>83.816757</td>\n",
       "      <td>93.392371</td>\n",
       "      <td>97.138965</td>\n",
       "      <td>90.599455</td>\n",
       "    </tr>\n",
       "    <tr>\n",
       "      <th>Hernandez High School</th>\n",
       "      <td>District</td>\n",
       "      <td>4635</td>\n",
       "      <td>$3,022,020.00</td>\n",
       "      <td>$652.00</td>\n",
       "      <td>77.289752</td>\n",
       "      <td>80.934412</td>\n",
       "      <td>66.752967</td>\n",
       "      <td>80.862999</td>\n",
       "      <td>53.527508</td>\n",
       "    </tr>\n",
       "    <tr>\n",
       "      <th>Holden High School</th>\n",
       "      <td>Charter</td>\n",
       "      <td>427</td>\n",
       "      <td>$248,087.00</td>\n",
       "      <td>$581.00</td>\n",
       "      <td>83.803279</td>\n",
       "      <td>83.814988</td>\n",
       "      <td>92.505855</td>\n",
       "      <td>96.252927</td>\n",
       "      <td>89.227166</td>\n",
       "    </tr>\n",
       "    <tr>\n",
       "      <th>Huang High School</th>\n",
       "      <td>District</td>\n",
       "      <td>2917</td>\n",
       "      <td>$1,910,635.00</td>\n",
       "      <td>$655.00</td>\n",
       "      <td>76.629414</td>\n",
       "      <td>81.182722</td>\n",
       "      <td>65.683922</td>\n",
       "      <td>81.316421</td>\n",
       "      <td>53.513884</td>\n",
       "    </tr>\n",
       "    <tr>\n",
       "      <th>Johnson High School</th>\n",
       "      <td>District</td>\n",
       "      <td>4761</td>\n",
       "      <td>$3,094,650.00</td>\n",
       "      <td>$650.00</td>\n",
       "      <td>77.072464</td>\n",
       "      <td>80.966394</td>\n",
       "      <td>66.057551</td>\n",
       "      <td>81.222432</td>\n",
       "      <td>53.539172</td>\n",
       "    </tr>\n",
       "    <tr>\n",
       "      <th>Pena High School</th>\n",
       "      <td>Charter</td>\n",
       "      <td>962</td>\n",
       "      <td>$585,858.00</td>\n",
       "      <td>$609.00</td>\n",
       "      <td>83.839917</td>\n",
       "      <td>84.044699</td>\n",
       "      <td>94.594595</td>\n",
       "      <td>95.945946</td>\n",
       "      <td>90.540541</td>\n",
       "    </tr>\n",
       "    <tr>\n",
       "      <th>Rodriguez High School</th>\n",
       "      <td>District</td>\n",
       "      <td>3999</td>\n",
       "      <td>$2,547,363.00</td>\n",
       "      <td>$637.00</td>\n",
       "      <td>76.842711</td>\n",
       "      <td>80.744686</td>\n",
       "      <td>66.366592</td>\n",
       "      <td>80.220055</td>\n",
       "      <td>52.988247</td>\n",
       "    </tr>\n",
       "    <tr>\n",
       "      <th>Shelton High School</th>\n",
       "      <td>Charter</td>\n",
       "      <td>1761</td>\n",
       "      <td>$1,056,600.00</td>\n",
       "      <td>$600.00</td>\n",
       "      <td>83.359455</td>\n",
       "      <td>83.725724</td>\n",
       "      <td>93.867121</td>\n",
       "      <td>95.854628</td>\n",
       "      <td>89.892107</td>\n",
       "    </tr>\n",
       "    <tr>\n",
       "      <th>Thomas High School</th>\n",
       "      <td>Charter</td>\n",
       "      <td>1635</td>\n",
       "      <td>$1,043,130.00</td>\n",
       "      <td>$638.00</td>\n",
       "      <td>83.418349</td>\n",
       "      <td>83.848930</td>\n",
       "      <td>93.272171</td>\n",
       "      <td>97.308869</td>\n",
       "      <td>90.948012</td>\n",
       "    </tr>\n",
       "    <tr>\n",
       "      <th>Wilson High School</th>\n",
       "      <td>Charter</td>\n",
       "      <td>2283</td>\n",
       "      <td>$1,319,574.00</td>\n",
       "      <td>$578.00</td>\n",
       "      <td>83.274201</td>\n",
       "      <td>83.989488</td>\n",
       "      <td>93.867718</td>\n",
       "      <td>96.539641</td>\n",
       "      <td>90.582567</td>\n",
       "    </tr>\n",
       "    <tr>\n",
       "      <th>Wright High School</th>\n",
       "      <td>Charter</td>\n",
       "      <td>1800</td>\n",
       "      <td>$1,049,400.00</td>\n",
       "      <td>$583.00</td>\n",
       "      <td>83.682222</td>\n",
       "      <td>83.955000</td>\n",
       "      <td>93.333333</td>\n",
       "      <td>96.611111</td>\n",
       "      <td>90.333333</td>\n",
       "    </tr>\n",
       "  </tbody>\n",
       "</table>\n",
       "</div>"
      ],
      "text/plain": [
       "                      School Type  Total Students Total School Budget  \\\n",
       "Bailey High School       District            4976       $3,124,928.00   \n",
       "Cabrera High School       Charter            1858       $1,081,356.00   \n",
       "Figueroa High School     District            2949       $1,884,411.00   \n",
       "Ford High School         District            2739       $1,763,916.00   \n",
       "Griffin High School       Charter            1468         $917,500.00   \n",
       "Hernandez High School    District            4635       $3,022,020.00   \n",
       "Holden High School        Charter             427         $248,087.00   \n",
       "Huang High School        District            2917       $1,910,635.00   \n",
       "Johnson High School      District            4761       $3,094,650.00   \n",
       "Pena High School          Charter             962         $585,858.00   \n",
       "Rodriguez High School    District            3999       $2,547,363.00   \n",
       "Shelton High School       Charter            1761       $1,056,600.00   \n",
       "Thomas High School        Charter            1635       $1,043,130.00   \n",
       "Wilson High School        Charter            2283       $1,319,574.00   \n",
       "Wright High School        Charter            1800       $1,049,400.00   \n",
       "\n",
       "                      Per Student Budget  Average Math Score  \\\n",
       "Bailey High School               $628.00           77.048432   \n",
       "Cabrera High School              $582.00           83.061895   \n",
       "Figueroa High School             $639.00           76.711767   \n",
       "Ford High School                 $644.00           77.102592   \n",
       "Griffin High School              $625.00           83.351499   \n",
       "Hernandez High School            $652.00           77.289752   \n",
       "Holden High School               $581.00           83.803279   \n",
       "Huang High School                $655.00           76.629414   \n",
       "Johnson High School              $650.00           77.072464   \n",
       "Pena High School                 $609.00           83.839917   \n",
       "Rodriguez High School            $637.00           76.842711   \n",
       "Shelton High School              $600.00           83.359455   \n",
       "Thomas High School               $638.00           83.418349   \n",
       "Wilson High School               $578.00           83.274201   \n",
       "Wright High School               $583.00           83.682222   \n",
       "\n",
       "                       Average Reading Score  % Passing Math  \\\n",
       "Bailey High School                 81.033963       66.680064   \n",
       "Cabrera High School                83.975780       94.133477   \n",
       "Figueroa High School               81.158020       65.988471   \n",
       "Ford High School                   80.746258       68.309602   \n",
       "Griffin High School                83.816757       93.392371   \n",
       "Hernandez High School              80.934412       66.752967   \n",
       "Holden High School                 83.814988       92.505855   \n",
       "Huang High School                  81.182722       65.683922   \n",
       "Johnson High School                80.966394       66.057551   \n",
       "Pena High School                   84.044699       94.594595   \n",
       "Rodriguez High School              80.744686       66.366592   \n",
       "Shelton High School                83.725724       93.867121   \n",
       "Thomas High School                 83.848930       93.272171   \n",
       "Wilson High School                 83.989488       93.867718   \n",
       "Wright High School                 83.955000       93.333333   \n",
       "\n",
       "                       % Passing Reading  % Passing Overall  \n",
       "Bailey High School             81.933280          54.642283  \n",
       "Cabrera High School            97.039828          91.334769  \n",
       "Figueroa High School           80.739234          53.204476  \n",
       "Ford High School               79.299014          54.289887  \n",
       "Griffin High School            97.138965          90.599455  \n",
       "Hernandez High School          80.862999          53.527508  \n",
       "Holden High School             96.252927          89.227166  \n",
       "Huang High School              81.316421          53.513884  \n",
       "Johnson High School            81.222432          53.539172  \n",
       "Pena High School               95.945946          90.540541  \n",
       "Rodriguez High School          80.220055          52.988247  \n",
       "Shelton High School            95.854628          89.892107  \n",
       "Thomas High School             97.308869          90.948012  \n",
       "Wilson High School             96.539641          90.582567  \n",
       "Wright High School             96.611111          90.333333  "
      ]
     },
     "execution_count": 100,
     "metadata": {},
     "output_type": "execute_result"
    }
   ],
   "source": [
    "# Create a DataFrame called `per_school_summary` with columns for the calculations above.\n",
    "per_school_summary_data = {\"School Type\":school_types,\n",
    "                         \"Total Students\":per_school_counts, \n",
    "                         \"Total School Budget\":per_school_budget, \n",
    "                         \"Per Student Budget\":per_school_capita, \n",
    "                         \"Average Math Score\":per_school_math, \n",
    "                         \"Average Reading Score\":per_school_reading, \n",
    "                         \"% Passing Math\":per_school_passing_math,\n",
    "                         \"% Passing Reading\":per_school_passing_reading,\n",
    "                         \"% Passing Overall\":overall_passing_rate\n",
    "                           }\n",
    "per_school_summary = pd.DataFrame(per_school_summary_data)\n",
    "# Formatting\n",
    "per_school_summary[\"Total School Budget\"] = per_school_summary[\"Total School Budget\"].map(\"${:,.2f}\".format)\n",
    "per_school_summary[\"Per Student Budget\"] = per_school_summary[\"Per Student Budget\"].map(\"${:,.2f}\".format)\n",
    "\n",
    "# Display the DataFrame\n",
    "per_school_summary"
   ]
  },
  {
   "cell_type": "code",
   "execution_count": null,
   "id": "486d5422-8e59-4184-be2e-8d7a917cbad5",
   "metadata": {},
   "outputs": [],
   "source": []
  }
 ],
 "metadata": {
  "kernelspec": {
   "display_name": "Python 3 (ipykernel)",
   "language": "python",
   "name": "python3"
  },
  "language_info": {
   "codemirror_mode": {
    "name": "ipython",
    "version": 3
   },
   "file_extension": ".py",
   "mimetype": "text/x-python",
   "name": "python",
   "nbconvert_exporter": "python",
   "pygments_lexer": "ipython3",
   "version": "3.10.9"
  }
 },
 "nbformat": 4,
 "nbformat_minor": 5
}
